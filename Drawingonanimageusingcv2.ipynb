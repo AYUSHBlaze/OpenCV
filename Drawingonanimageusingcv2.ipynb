{
 "cells": [
  {
   "cell_type": "code",
   "execution_count": 2,
   "metadata": {},
   "outputs": [],
   "source": [
    "import numpy as np\n",
    "import cv2"
   ]
  },
  {
   "cell_type": "code",
   "execution_count": 7,
   "metadata": {},
   "outputs": [
    {
     "data": {
      "text/plain": [
       "array([[[255, 255, 255],\n",
       "        [255, 255, 255],\n",
       "        [255, 255, 255],\n",
       "        ...,\n",
       "        [ 95,  56,  64],\n",
       "        [ 95,  56,  64],\n",
       "        [ 95,  56,  64]],\n",
       "\n",
       "       [[255, 255, 255],\n",
       "        [255, 255, 255],\n",
       "        [255, 255, 255],\n",
       "        ...,\n",
       "        [ 95,  56,  64],\n",
       "        [ 95,  56,  64],\n",
       "        [ 95,  56,  64]],\n",
       "\n",
       "       [[255, 255, 255],\n",
       "        [255, 255, 255],\n",
       "        [255, 255, 255],\n",
       "        ...,\n",
       "        [ 95,  56,  64],\n",
       "        [ 95,  56,  64],\n",
       "        [ 95,  56,  64]],\n",
       "\n",
       "       ...,\n",
       "\n",
       "       [[ 53,  25,  38],\n",
       "        [ 53,  25,  38],\n",
       "        [ 53,  25,  38],\n",
       "        ...,\n",
       "        [ 68,  39,  65],\n",
       "        [ 70,  39,  70],\n",
       "        [ 69,  38,  69]],\n",
       "\n",
       "       [[ 53,  25,  38],\n",
       "        [ 53,  25,  38],\n",
       "        [ 53,  25,  38],\n",
       "        ...,\n",
       "        [ 68,  39,  65],\n",
       "        [ 70,  39,  70],\n",
       "        [ 69,  38,  69]],\n",
       "\n",
       "       [[ 53,  25,  38],\n",
       "        [ 53,  25,  38],\n",
       "        [ 53,  25,  38],\n",
       "        ...,\n",
       "        [ 68,  39,  65],\n",
       "        [ 70,  39,  70],\n",
       "        [ 69,  38,  69]]], dtype=uint8)"
      ]
     },
     "execution_count": 7,
     "metadata": {},
     "output_type": "execute_result"
    }
   ],
   "source": [
    "img=cv2.imread('1625507.jpg',cv2.IMREAD_COLOR)\n",
    "cv2.line(img, (0,0), (150,150), (255,255,255), 15)"
   ]
  },
  {
   "cell_type": "code",
   "execution_count": 12,
   "metadata": {},
   "outputs": [],
   "source": [
    "cv2.circle(img, (140,250), 55, (0,0,255), -1)\n",
    "cv2.rectangle(img, (15,20), (200,150), (0,255,0), 5)\n",
    "pts= np.array([[10,5],[20,30],[70,20],[50,10]],np.int32)\n",
    "#pts=pts.rehsape((-1,1,2))\n",
    "cv2.polylines(img, [pts], True, (0,255,255), 3)\n",
    "cv2.imshow('image',img)\n",
    "cv2.waitKey(0)\n",
    "cv2.destroyAllWindows()"
   ]
  }
 ],
 "metadata": {
  "kernelspec": {
   "display_name": "Python 3",
   "language": "python",
   "name": "python3"
  },
  "language_info": {
   "codemirror_mode": {
    "name": "ipython",
    "version": 3
   },
   "file_extension": ".py",
   "mimetype": "text/x-python",
   "name": "python",
   "nbconvert_exporter": "python",
   "pygments_lexer": "ipython3",
   "version": "3.7.6"
  }
 },
 "nbformat": 4,
 "nbformat_minor": 4
}
